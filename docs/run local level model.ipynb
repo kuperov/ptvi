{
 "cells": [
  {
   "cell_type": "markdown",
   "metadata": {
    "colab_type": "text",
    "id": "KxiOo2MHnJXn"
   },
   "source": [
    "# Local level model\n",
    "\n",
    "This note uses a local level model. Basic state-space model with measurement error and an AR(1) latent process.\n",
    "\n",
    "$$y_t = \\gamma + \\eta z_t + \\epsilon_t, \\quad \\epsilon_t \\sim N_{0,\\sigma^2}, \\quad t=1,\\dots,\\tau$$\n",
    "$$z_t = \\rho z_{t-1} + \\nu_t\\quad \\nu_t \\sim N_{0,1}, \\quad t=2,\\dots,\\tau$$\n",
    "$$z_1 \\sim N_{0, (1+\\rho^2)^{-1/2}} $$\n",
    "\n",
    "See the graphs below and code for information about the priors and inference, which is a structured (full-rank) VI procedure."
   ]
  },
  {
   "cell_type": "markdown",
   "metadata": {
    "colab_type": "text",
    "id": "H0CvoJCPnJXp"
   },
   "source": [
    "## Preliminaries"
   ]
  },
  {
   "cell_type": "code",
   "execution_count": 1,
   "metadata": {
    "colab": {
     "autoexec": {
      "startup": false,
      "wait_interval": 0.0
     },
     "base_uri": "https://localhost:8080/",
     "height": 71.0
    },
    "colab_type": "code",
    "executionInfo": {
     "elapsed": 10961.0,
     "status": "ok",
     "timestamp": 1.532061261862E12,
     "user": {
      "displayName": "Alexander Cooper",
      "photoUrl": "https://lh3.googleusercontent.com/a/default-user=s128",
      "userId": "101098257440488934069"
     },
     "user_tz": -600.0
    },
    "id": "TbuTGESGyfXa",
    "outputId": "d832520d-19d3-48be-a84e-4adfe09ac1af"
   },
   "outputs": [],
   "source": [
    "# !pip3 install http://download.pytorch.org/whl/cu90/torch-0.4.0-cp36-cp36m-linux_x86_64.whl >/dev/null && echo OK\n",
    "# !pip3 install torchvision > /dev/null && echo OK\n",
    "# !pip3 uninstall -y ptvi >/dev/null && echo OK\n",
    "# !pip3 install git+https://github.com/kuperov/ptvi.git  >/dev/null && echo OK"
   ]
  },
  {
   "cell_type": "code",
   "execution_count": 2,
   "metadata": {
    "colab": {
     "autoexec": {
      "startup": false,
      "wait_interval": 0.0
     }
    },
    "colab_type": "code",
    "id": "qMD4iS_jnJXq"
   },
   "outputs": [],
   "source": [
    "from ptvi import *\n",
    "import torch\n",
    "import pandas as pd\n",
    "pd.set_option('precision', 2)"
   ]
  },
  {
   "cell_type": "markdown",
   "metadata": {
    "colab_type": "text",
    "id": "uMjB1ifYnJXt"
   },
   "source": [
    "Define the true parameter values and generate data."
   ]
  },
  {
   "cell_type": "code",
   "execution_count": 3,
   "metadata": {
    "colab": {
     "autoexec": {
      "startup": false,
      "wait_interval": 0.0
     }
    },
    "colab_type": "code",
    "id": "wO2_PYjKnJXt"
   },
   "outputs": [],
   "source": [
    "γ0, η0, σ0, ρ0 = 0., 2., 1.5, 0.92"
   ]
  },
  {
   "cell_type": "code",
   "execution_count": 4,
   "metadata": {
    "colab": {
     "autoexec": {
      "startup": false,
      "wait_interval": 0.0
     }
    },
    "colab_type": "code",
    "id": "zGyX4_O3nJXv"
   },
   "outputs": [],
   "source": [
    "torch.manual_seed(1234)\n",
    "y, z = LocalLevelModel(τ=100).simulate(γ=γ0, η=η0, σ=σ0, ρ=ρ0)"
   ]
  },
  {
   "cell_type": "markdown",
   "metadata": {
    "colab_type": "text",
    "id": "x_KtuqhInJXx"
   },
   "source": [
    "## Approximate inference\n",
    "\n",
    "Our inference procedure is quick, but frankly not super great.\n",
    "\n",
    "There are two different ways to compute elbo estimates. The first is ADVI, where our elbo is estimated with an analytic entropy term, as\n",
    "\n",
    "$$ \\hat{\\mathcal{L}} = \\frac{1}{M} \\sum_{i=1}^M \n",
    "    p(y, \\zeta^{(i)}) - \n",
    "    \\mathbb{E}_{q_{u,L}} \\left[ q_{u,L}(\\zeta^{(i)}) \n",
    "   \\right]\n",
    "$$\n",
    "where $\\zeta^{(i)}\\sim q_{u,L}$ via the reparameterization trick. \n",
    "\n",
    "The other is SGVI, where the elbo is estimated by simulating the entropy term, as\n",
    "\n",
    "$$ \\hat{\\mathcal{L}} = \\frac{1}{M} \\sum_{i=1}^M \\left[\n",
    "    p(y, \\zeta^{(i)}) - q_{u,L}(\\zeta^{(i)}) \n",
    "   \\right]\n",
    "$$\n",
    "where $\\zeta^{(i)}\\sim q_{u,L}$ via the reparameterization trick. \n",
    "\n",
    "The code is available [here](https://github.com/kuperov/ptvi/blob/dev/ptvi/local_level.py)."
   ]
  },
  {
   "cell_type": "code",
   "execution_count": null,
   "metadata": {
    "colab": {
     "autoexec": {
      "startup": false,
      "wait_interval": 0.0
     },
     "base_uri": "https://localhost:8080/",
     "height": 467.0
    },
    "colab_type": "code",
    "id": "X6dRrs8lnJXy",
    "outputId": "f95fbebd-ffe1-47c0-8de8-09b6cff15246"
   },
   "outputs": [
    {
     "name": "stdout",
     "output_type": "stream",
     "text": [
      "================================================================================\n",
      "Local level model with τ=100:\n",
      "    - stochastic entropy;\n",
      "    - 10 simulation draws;\n",
      "    - Exponential stopping heuristic (N=50, M=50, α=0.05)\n",
      "\n",
      "RMSprop optimizer with param groups:\n",
      "    group 0. lr=0.01, momentum=0, alpha=0.99, eps=1e-08, centered=False, weight_decay=0\n",
      "\n",
      "Displayed loss is smoothed with λ=0.1\n",
      "================================================================================\n",
      "       0. smoothed elbo_hat =-2002.72\n",
      "       1. smoothed elbo_hat = 1621.74\n",
      "       2. smoothed elbo_hat =-1691.85\n",
      "       4. smoothed elbo_hat = -283.80\n",
      "       8. smoothed elbo_hat =-3997.65\n",
      "      16. smoothed elbo_hat =-3633.93\n",
      "      32. smoothed elbo_hat = -476.42\n",
      "      64. smoothed elbo_hat = 1019.79\n",
      "     128. smoothed elbo_hat = -236.61\n",
      "     256. smoothed elbo_hat =   86.89\n",
      "     512. smoothed elbo_hat =  -57.30\n",
      "    1024. smoothed elbo_hat =  -15.60\n",
      "    2048. smoothed elbo_hat =  -13.86\n",
      "    4096. smoothed elbo_hat =  -13.51\n",
      "    8192. smoothed elbo_hat =  -14.21\n"
     ]
    }
   ],
   "source": [
    "model = LocalLevelModel(τ=100, stoch_entropy=True, num_draws=10)\n",
    "fit = model.training_loop(y, max_iters=2**20)"
   ]
  },
  {
   "cell_type": "code",
   "execution_count": null,
   "metadata": {
    "colab": {
     "autoexec": {
      "startup": false,
      "wait_interval": 0.0
     }
    },
    "colab_type": "code",
    "id": "MWDgoNUAAOCI"
   },
   "outputs": [],
   "source": [
    "fit.plot_elbos()"
   ]
  },
  {
   "cell_type": "code",
   "execution_count": null,
   "metadata": {
    "colab": {
     "autoexec": {
      "startup": false,
      "wait_interval": 0.0
     },
     "base_uri": "https://localhost:8080/",
     "height": 173.0
    },
    "colab_type": "code",
    "executionInfo": {
     "elapsed": 811.0,
     "status": "ok",
     "timestamp": 1.532061634551E12,
     "user": {
      "displayName": "Alexander Cooper",
      "photoUrl": "https://lh3.googleusercontent.com/a/default-user=s128",
      "userId": "101098257440488934069"
     },
     "user_tz": -600.0
    },
    "id": "SESMmp0YnJX1",
    "outputId": "c5cbca44-2f5d-43df-d2d9-32ac4a13b006"
   },
   "outputs": [],
   "source": [
    "fit.summary()"
   ]
  },
  {
   "cell_type": "markdown",
   "metadata": {
    "colab_type": "text",
    "id": "U6Y1tQVNnJX5"
   },
   "source": [
    "Note the model's overconfidence about the latent state. You can barely even see the standard deviation band around the blue estimated state."
   ]
  },
  {
   "cell_type": "code",
   "execution_count": null,
   "metadata": {
    "colab": {
     "autoexec": {
      "startup": false,
      "wait_interval": 0.0
     },
     "base_uri": "https://localhost:8080/",
     "height": 401.0
    },
    "colab_type": "code",
    "executionInfo": {
     "elapsed": 1526.0,
     "status": "ok",
     "timestamp": 1.532061638056E12,
     "user": {
      "displayName": "Alexander Cooper",
      "photoUrl": "https://lh3.googleusercontent.com/a/default-user=s128",
      "userId": "101098257440488934069"
     },
     "user_tz": -600.0
    },
    "id": "XyZOJQ0unJX5",
    "outputId": "3ca1474a-7b7c-4c26-edbc-b40edce409d4"
   },
   "outputs": [],
   "source": [
    "fit.plot_latent(true_z=z.numpy(), include_data=True)"
   ]
  },
  {
   "cell_type": "code",
   "execution_count": null,
   "metadata": {
    "colab": {
     "autoexec": {
      "startup": false,
      "wait_interval": 0.0
     },
     "base_uri": "https://localhost:8080/",
     "height": 347.0
    },
    "colab_type": "code",
    "executionInfo": {
     "elapsed": 2847.0,
     "status": "ok",
     "timestamp": 1.532061644111E12,
     "user": {
      "displayName": "Alexander Cooper",
      "photoUrl": "https://lh3.googleusercontent.com/a/default-user=s128",
      "userId": "101098257440488934069"
     },
     "user_tz": -600.0
    },
    "id": "PfjGWDC4nJX8",
    "outputId": "25d9caf3-96a8-4530-c88f-3c7f18eb0a08"
   },
   "outputs": [],
   "source": [
    "plot_dens({'p(σ | y)': fit.σ_marg_post, 'p(σ)': model.σ_prior, '$σ_0$': σ0}, -1, 10)"
   ]
  },
  {
   "cell_type": "code",
   "execution_count": null,
   "metadata": {
    "colab": {
     "autoexec": {
      "startup": false,
      "wait_interval": 0.0
     },
     "base_uri": "https://localhost:8080/",
     "height": 347.0
    },
    "colab_type": "code",
    "executionInfo": {
     "elapsed": 1244.0,
     "status": "ok",
     "timestamp": 1.532060997407E12,
     "user": {
      "displayName": "Alexander Cooper",
      "photoUrl": "https://lh3.googleusercontent.com/a/default-user=s128",
      "userId": "101098257440488934069"
     },
     "user_tz": -600.0
    },
    "id": "c53ZjjmvnJX_",
    "outputId": "8fdf4ed3-676f-49e5-c19f-3a5bc5fcb629"
   },
   "outputs": [],
   "source": [
    "plot_dens({'p(γ | y)': fit.γ_marg_post, 'p(γ)': model.γ_prior, '$γ_0$': γ0}, -4, 4)"
   ]
  },
  {
   "cell_type": "code",
   "execution_count": null,
   "metadata": {
    "colab": {
     "autoexec": {
      "startup": false,
      "wait_interval": 0.0
     },
     "base_uri": "https://localhost:8080/",
     "height": 347.0
    },
    "colab_type": "code",
    "executionInfo": {
     "elapsed": 1128.0,
     "status": "ok",
     "timestamp": 1.532060998598E12,
     "user": {
      "displayName": "Alexander Cooper",
      "photoUrl": "https://lh3.googleusercontent.com/a/default-user=s128",
      "userId": "101098257440488934069"
     },
     "user_tz": -600.0
    },
    "id": "zsyfSRDInJYB",
    "outputId": "9cc45622-edbd-4b87-fff0-19a7da8fb5c7"
   },
   "outputs": [],
   "source": [
    "plot_dens({'p(η | y)': fit.η_marg_post, 'p(η)': model.η_prior, '$η_0$': η0}, -1, 10)"
   ]
  },
  {
   "cell_type": "code",
   "execution_count": null,
   "metadata": {
    "colab": {
     "autoexec": {
      "startup": false,
      "wait_interval": 0.0
     },
     "base_uri": "https://localhost:8080/",
     "height": 348.0
    },
    "colab_type": "code",
    "executionInfo": {
     "elapsed": 1096.0,
     "status": "ok",
     "timestamp": 1.53206099975E12,
     "user": {
      "displayName": "Alexander Cooper",
      "photoUrl": "https://lh3.googleusercontent.com/a/default-user=s128",
      "userId": "101098257440488934069"
     },
     "user_tz": -600.0
    },
    "id": "P_IF3MpHnJYE",
    "outputId": "642d4917-28a9-4f32-d633-d847d8143445"
   },
   "outputs": [],
   "source": [
    "plot_dens({'p(ρ | y)': fit.ρ_marg_post, 'p(ρ)': model.ρ_prior, '$ρ_0$': ρ0}, -1.5, 1.5)"
   ]
  },
  {
   "cell_type": "markdown",
   "metadata": {
    "colab_type": "text",
    "id": "fTdihlNfnJYF"
   },
   "source": [
    "### Forecasts"
   ]
  },
  {
   "cell_type": "code",
   "execution_count": null,
   "metadata": {
    "colab": {
     "autoexec": {
      "startup": false,
      "wait_interval": 0.0
     },
     "base_uri": "https://localhost:8080/",
     "height": 362.0
    },
    "colab_type": "code",
    "executionInfo": {
     "elapsed": 2014.0,
     "status": "ok",
     "timestamp": 1.532061001824E12,
     "user": {
      "displayName": "Alexander Cooper",
      "photoUrl": "https://lh3.googleusercontent.com/a/default-user=s128",
      "userId": "101098257440488934069"
     },
     "user_tz": -600.0
    },
    "id": "fpBnmpKCnJYG",
    "outputId": "085266a8-0127-4efd-c370-0a8564035cf2"
   },
   "outputs": [],
   "source": [
    "fit.plot_sampled_paths(N=100, true_y=y, fc_steps=20)"
   ]
  },
  {
   "cell_type": "code",
   "execution_count": null,
   "metadata": {
    "colab": {
     "autoexec": {
      "startup": false,
      "wait_interval": 0.0
     },
     "base_uri": "https://localhost:8080/",
     "height": 362.0
    },
    "colab_type": "code",
    "executionInfo": {
     "elapsed": 1868.0,
     "status": "ok",
     "timestamp": 1.532061003705E12,
     "user": {
      "displayName": "Alexander Cooper",
      "photoUrl": "https://lh3.googleusercontent.com/a/default-user=s128",
      "userId": "101098257440488934069"
     },
     "user_tz": -600.0
    },
    "id": "EDwwQ4XxnJYI",
    "outputId": "9dc807aa-fd2c-459b-ee34-3e0254c21148"
   },
   "outputs": [],
   "source": [
    "fit.plot_pred_ci(N=500, α=.1, true_y=y, fc_steps=20)"
   ]
  }
 ],
 "metadata": {
  "colab": {
   "default_view": {},
   "name": "run local level model.ipynb",
   "provenance": [],
   "version": "0.3.2",
   "views": {}
  },
  "kernelspec": {
   "display_name": "Python 3",
   "language": "python",
   "name": "python3"
  },
  "language_info": {
   "codemirror_mode": {
    "name": "ipython",
    "version": 3
   },
   "file_extension": ".py",
   "mimetype": "text/x-python",
   "name": "python",
   "nbconvert_exporter": "python",
   "pygments_lexer": "ipython3",
   "version": "3.6.6"
  }
 },
 "nbformat": 4,
 "nbformat_minor": 1
}
