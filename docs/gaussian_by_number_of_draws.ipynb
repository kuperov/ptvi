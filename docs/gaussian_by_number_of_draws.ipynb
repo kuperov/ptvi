{
 "cells": [
  {
   "cell_type": "markdown",
   "metadata": {},
   "source": [
    "# Variational Gaussian Model"
   ]
  },
  {
   "cell_type": "code",
   "execution_count": 1,
   "metadata": {},
   "outputs": [],
   "source": [
    "import math\n",
    "import torch\n",
    "\n",
    "import matplotlib.pyplot as plt\n",
    "\n",
    "from ptvi import (UnivariateGaussian, NullStoppingHeuristic, \n",
    "                  ExponentialStoppingHeuristic)\n",
    "\n",
    "stop_heur = NullStoppingHeuristic()\n",
    "max_iter = 2**13"
   ]
  },
  {
   "cell_type": "markdown",
   "metadata": {},
   "source": [
    "Simulate data, which will be common for all models. Mean and sd are shown below."
   ]
  },
  {
   "cell_type": "code",
   "execution_count": 2,
   "metadata": {},
   "outputs": [
    {
     "name": "stdout",
     "output_type": "stream",
     "text": [
      "Simulated 100 observations with mean = 4.76, sd = 5.00\n"
     ]
    }
   ],
   "source": [
    "torch.manual_seed(123)\n",
    "N, μ0, σ0 = 100, 5., 5.\n",
    "η0 = math.log(σ0)\n",
    "y = UnivariateGaussian().simulate(N=N, μ0=μ0, σ0=σ0)"
   ]
  },
  {
   "cell_type": "markdown",
   "metadata": {},
   "source": [
    "## Analytic entropy term"
   ]
  },
  {
   "cell_type": "code",
   "execution_count": 3,
   "metadata": {},
   "outputs": [
    {
     "name": "stdout",
     "output_type": "stream",
     "text": [
      "================================================================================\n",
      "Gaussian model:\n",
      "    - analytic entropy;\n",
      "    - 1 simulation draw;\n",
      "    - Null stopping heuristic (never fires)\n",
      "\n",
      "RMSprop optimizer with param groups:\n",
      "    group 0. lr=0.01, momentum=0, alpha=0.99, eps=1e-08, centered=False, weight_decay=0\n",
      "\n",
      "Displayed loss is smoothed with λ=0.1\n",
      "================================================================================\n",
      "       0. smoothed loss =  -274842.09  μ_hat = 0.10 (1.10), η_hat = 0.10 (0.91) \n",
      "       1. smoothed loss =   244635.77  μ_hat = 0.10 (1.11), η_hat = 0.10 (0.91) \n",
      "       2. smoothed loss =  -220232.31  μ_hat = 0.10 (1.11), η_hat = 0.10 (0.91) \n",
      "       4. smoothed loss =  -179307.77  μ_hat = 0.10 (1.11), η_hat = 0.10 (0.91) \n",
      "       8. smoothed loss =  -118476.89  μ_hat = 0.10 (1.10), η_hat = 0.10 (0.91) \n",
      "      16. smoothed loss =   -52359.69  μ_hat = 0.10 (1.09), η_hat = 0.10 (0.90) \n",
      "      32. smoothed loss =    -8708.24  μ_hat = 0.11 (1.09), η_hat = 0.11 (0.90) \n",
      "      64. smoothed loss =     -928.99  μ_hat = 0.11 (1.09), η_hat = 0.11 (0.90) \n",
      "     128. smoothed loss =      748.68  μ_hat = 0.16 (0.98), η_hat = 0.16 (0.87) \n",
      "     256. smoothed loss =     -336.06  μ_hat = 0.23 (1.00), η_hat = 0.23 (0.83) \n",
      "     512. smoothed loss =     -193.26  μ_hat = 0.43 (0.96), η_hat = 0.44 (0.74) \n",
      "    1024. smoothed loss =       -2.90  μ_hat = 1.10 (0.78), η_hat = 1.09 (0.52) \n",
      "    2048. smoothed loss =      -16.03  μ_hat = 4.28 (0.01), η_hat = 1.61 (0.01) \n",
      "    4096. smoothed loss =      -16.35  μ_hat = 4.75 (0.01), η_hat = 1.58 (0.10) \n",
      "WARNING: maximum iterations reached.\n",
      "    8192. smoothed loss =      -16.04  μ_hat = 4.75 (0.07), η_hat = 1.60 (0.05) \n",
      "Completed 8192 iterations in 5.1s @ 1344.55 i/s.\n",
      "================================================================================\n"
     ]
    }
   ],
   "source": [
    "model = UnivariateGaussian(n_draws=1, stochastic_entropy=False,\n",
    "                           stop_heur=stop_heur)\n",
    "result = model.training_loop(y, max_iters=max_iter)"
   ]
  },
  {
   "cell_type": "code",
   "execution_count": 4,
   "metadata": {},
   "outputs": [
    {
     "data": {
      "image/png": "[encoded data removed]",
      "text/plain": [
       "<Figure size 864x288 with 3 Axes>"
      ]
     },
     "metadata": {},
     "output_type": "display_data"
    }
   ],
   "source": [
    "plt.rcParams['figure.figsize'] = [12, 4]\n",
    "plt.subplot(131); result.plot_marg('μ', true_val=μ0)\n",
    "plt.subplot(132); result.plot_marg('σ', true_val=σ0)\n",
    "plt.subplot(133); result.plot_marg('η', true_val=η0)"
   ]
  },
  {
   "cell_type": "markdown",
   "metadata": {},
   "source": [
    "## Stochastic entropy term\n",
    "\n",
    "### elbo estimated with 1 draw"
   ]
  },
  {
   "cell_type": "code",
   "execution_count": 5,
   "metadata": {
    "scrolled": true
   },
   "outputs": [
    {
     "name": "stdout",
     "output_type": "stream",
     "text": [
      "================================================================================\n",
      "Gaussian model:\n",
      "    - stochastic entropy;\n",
      "    - 1 simulation draw;\n",
      "    - Null stopping heuristic (never fires)\n",
      "\n",
      "RMSprop optimizer with param groups:\n",
      "    group 0. lr=0.01, momentum=0, alpha=0.99, eps=1e-08, centered=False, weight_decay=0\n",
      "\n",
      "Displayed loss is smoothed with λ=0.1\n",
      "================================================================================\n",
      "       0. smoothed loss =  -225808.22  μ_hat = 0.10 (1.10), η_hat = 0.10 (1.10) \n",
      "       1. smoothed loss =   203192.20  μ_hat = 0.11 (1.03), η_hat = 0.10 (1.11) \n",
      "       2. smoothed loss =  -195075.25  μ_hat = 0.21 (1.13), η_hat = 0.20 (1.02) \n",
      "       4. smoothed loss =  -156889.67  μ_hat = 0.23 (1.12), η_hat = 0.22 (1.01) \n",
      "       8. smoothed loss =  -102913.52  μ_hat = 0.23 (1.12), η_hat = 0.22 (1.02) \n",
      "      16. smoothed loss =   -31035.27  μ_hat = 0.33 (1.01), η_hat = 0.32 (0.90) \n",
      "      32. smoothed loss =    -9033.26  μ_hat = 0.36 (1.01), η_hat = 0.35 (0.88) \n",
      "      64. smoothed loss =     5784.41  μ_hat = 0.46 (0.94), η_hat = 0.44 (0.80) \n",
      "     128. smoothed loss =    -1289.33  μ_hat = 0.55 (0.94), η_hat = 0.53 (0.73) \n",
      "     256. smoothed loss =    -1131.72  μ_hat = 0.74 (0.91), η_hat = 0.73 (0.59) \n",
      "     512. smoothed loss =       -4.23  μ_hat = 1.05 (0.83), η_hat = 1.02 (0.45) \n",
      "    1024. smoothed loss =      -17.60  μ_hat = 1.93 (0.79), η_hat = 1.62 (0.19) \n",
      "    2048. smoothed loss =      -16.50  μ_hat = 4.81 (0.56), η_hat = 1.64 (0.10) \n",
      "    4096. smoothed loss =      -16.32  μ_hat = 4.77 (0.50), η_hat = 1.60 (0.08) \n",
      "WARNING: maximum iterations reached.\n",
      "    8192. smoothed loss =      -16.16  μ_hat = 4.77 (0.48), η_hat = 1.61 (0.07) \n",
      "Completed 8192 iterations in 5.8s @ 1208.21 i/s.\n",
      "================================================================================\n"
     ]
    }
   ],
   "source": [
    "model_s1 = UnivariateGaussian(n_draws=1, stochastic_entropy=True,\n",
    "                           stop_heur=stop_heur)\n",
    "result_s1 = model_s1.training_loop(y, max_iters=max_iter)"
   ]
  },
  {
   "cell_type": "markdown",
   "metadata": {},
   "source": [
    "### elbo estimated with 10 draws"
   ]
  },
  {
   "cell_type": "code",
   "execution_count": 6,
   "metadata": {},
   "outputs": [
    {
     "name": "stdout",
     "output_type": "stream",
     "text": [
      "================================================================================\n",
      "Gaussian model:\n",
      "    - stochastic entropy;\n",
      "    - 10 simulation draws;\n",
      "    - Null stopping heuristic (never fires)\n",
      "\n",
      "RMSprop optimizer with param groups:\n",
      "    group 0. lr=0.01, momentum=0, alpha=0.99, eps=1e-08, centered=False, weight_decay=0\n",
      "\n",
      "Displayed loss is smoothed with λ=0.1\n",
      "================================================================================\n",
      "       0. smoothed loss =    -2918.21  μ_hat = 0.10 (1.10), η_hat = 0.10 (0.91) \n",
      "       1. smoothed loss =     -101.33  μ_hat = 0.19 (1.01), η_hat = 0.19 (0.80) \n",
      "       2. smoothed loss =      -75.79  μ_hat = 0.20 (1.09), η_hat = 0.20 (0.81) \n",
      "       4. smoothed loss =       78.86  μ_hat = 0.21 (0.94), η_hat = 0.21 (0.80) \n",
      "       8. smoothed loss =     -329.01  μ_hat = 0.31 (0.86), η_hat = 0.31 (0.74) \n",
      "      16. smoothed loss =     -112.41  μ_hat = 0.38 (0.90), η_hat = 0.38 (0.69) \n",
      "      32. smoothed loss =      849.26  μ_hat = 0.50 (0.87), η_hat = 0.50 (0.59) \n",
      "      64. smoothed loss =     -205.22  μ_hat = 0.63 (0.86), η_hat = 0.62 (0.53) \n",
      "     128. smoothed loss =      -99.81  μ_hat = 0.81 (0.84), η_hat = 0.81 (0.44) \n",
      "     256. smoothed loss =      -26.64  μ_hat = 1.11 (0.81), η_hat = 1.08 (0.34) \n",
      "     512. smoothed loss =      -15.81  μ_hat = 1.65 (0.73), η_hat = 1.48 (0.21) \n",
      "    1024. smoothed loss =      -16.86  μ_hat = 3.54 (0.56), η_hat = 1.66 (0.08) \n",
      "    2048. smoothed loss =      -16.35  μ_hat = 4.76 (0.47), η_hat = 1.61 (0.08) \n",
      "    4096. smoothed loss =      -16.34  μ_hat = 4.72 (0.48), η_hat = 1.62 (0.08) \n",
      "WARNING: maximum iterations reached.\n",
      "    8192. smoothed loss =      -16.35  μ_hat = 4.74 (0.52), η_hat = 1.62 (0.06) \n",
      "Completed 8192 iterations in 35.2s @ 225.98 i/s.\n",
      "================================================================================\n"
     ]
    }
   ],
   "source": [
    "model_s10 = UnivariateGaussian(n_draws=10, stochastic_entropy=True,\n",
    "                           stop_heur=stop_heur)\n",
    "result_s10 = model_s10.training_loop(y, max_iters=max_iter)"
   ]
  },
  {
   "cell_type": "markdown",
   "metadata": {},
   "source": [
    "### elbo estimated with 100 draws"
   ]
  },
  {
   "cell_type": "code",
   "execution_count": null,
   "metadata": {},
   "outputs": [
    {
     "name": "stdout",
     "output_type": "stream",
     "text": [
      "================================================================================\n",
      "Gaussian model:\n",
      "    - stochastic entropy;\n",
      "    - 100 simulation draws;\n",
      "    - Null stopping heuristic (never fires)\n",
      "\n",
      "RMSprop optimizer with param groups:\n",
      "    group 0. lr=0.01, momentum=0, alpha=0.99, eps=1e-08, centered=False, weight_decay=0\n",
      "\n",
      "Displayed loss is smoothed with λ=0.1\n",
      "================================================================================\n",
      "       0. smoothed loss =   -21054.07  μ_hat = 0.10 (0.90), η_hat = 0.10 (0.91) \n",
      "       1. smoothed loss =    18379.62  μ_hat = 0.12 (0.89), η_hat = 0.12 (0.89) \n",
      "       2. smoothed loss =   -17345.70  μ_hat = 0.15 (0.96), η_hat = 0.15 (0.86) \n",
      "       4. smoothed loss =   -14137.12  μ_hat = 0.20 (0.92), η_hat = 0.20 (0.82) \n",
      "       8. smoothed loss =    -9292.29  μ_hat = 0.27 (0.91), η_hat = 0.27 (0.76) \n",
      "      16. smoothed loss =    -3696.43  μ_hat = 0.37 (0.94), η_hat = 0.37 (0.66) \n",
      "      32. smoothed loss =     -713.28  μ_hat = 0.48 (0.88), η_hat = 0.48 (0.59) \n",
      "      64. smoothed loss =      -68.43  μ_hat = 0.64 (0.86), η_hat = 0.63 (0.49) \n",
      "     128. smoothed loss =      -30.17  μ_hat = 0.84 (0.82), η_hat = 0.82 (0.39) \n",
      "     256. smoothed loss =      -23.79  μ_hat = 1.15 (0.77), η_hat = 1.10 (0.27) \n",
      "     512. smoothed loss =      -17.55  μ_hat = 1.75 (0.70), η_hat = 1.51 (0.14) \n",
      "    1024. smoothed loss =      -16.45  μ_hat = 3.80 (0.52), η_hat = 1.64 (0.07) \n",
      "    2048. smoothed loss =      -16.34  μ_hat = 4.75 (0.50), η_hat = 1.60 (0.07) \n",
      "    4096. smoothed loss =      -16.35  μ_hat = 4.75 (0.46), η_hat = 1.60 (0.08) \n"
     ]
    }
   ],
   "source": [
    "model_s100 = UnivariateGaussian(n_draws=100, stochastic_entropy=True,\n",
    "                           stop_heur=stop_heur)\n",
    "result_s100 = model_s100.training_loop(y, max_iters=max_iter)"
   ]
  },
  {
   "cell_type": "code",
   "execution_count": null,
   "metadata": {},
   "outputs": [],
   "source": [
    "result_s1.plot_marg('μ', suffix='^{(1)}', true_val=μ0)\n",
    "result_s10.plot_marg('μ', suffix='^{(10)}', true_val=μ0)\n",
    "result_s100.plot_marg('μ', suffix='^{(100)}', true_val=μ0)"
   ]
  },
  {
   "cell_type": "code",
   "execution_count": null,
   "metadata": {},
   "outputs": [],
   "source": [
    "result_s1.plot_marg('σ', suffix='^{(1)}', true_val=σ0)\n",
    "result_s10.plot_marg('σ', suffix='^{(10)}', true_val=σ0)\n",
    "result_s100.plot_marg('σ', suffix='^{(100)}', true_val=σ0)"
   ]
  },
  {
   "cell_type": "code",
   "execution_count": null,
   "metadata": {},
   "outputs": [],
   "source": [
    "result_s1.plot_marg('η', suffix='^{(1)}', true_val=η0)\n",
    "result_s10.plot_marg('η', suffix='^{(10)}', true_val=η0)\n",
    "result_s100.plot_marg('η', suffix='^{(100)}', true_val=η0)"
   ]
  }
 ],
 "metadata": {
  "kernelspec": {
   "display_name": "Python 3",
   "language": "python",
   "name": "python3"
  },
  "language_info": {
   "codemirror_mode": {
    "name": "ipython",
    "version": 3
   },
   "file_extension": ".py",
   "mimetype": "text/x-python",
   "name": "python",
   "nbconvert_exporter": "python",
   "pygments_lexer": "ipython3",
   "version": "3.6.3"
  }
 },
 "nbformat": 4,
 "nbformat_minor": 2
}
